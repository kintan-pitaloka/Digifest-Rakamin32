{
 "cells": [
  {
   "cell_type": "markdown",
   "id": "ee5a262f",
   "metadata": {},
   "source": [
    "# HOMEWORK - RAKAMIN DSF32\n",
    "\n",
    "## LOAN CUSTOMER\n",
    "\n",
    "**Dataset ini menggambarkan perilaku dan profil pelanggan di\n",
    "sebuah bank yang menyediakan program pinjaman untuk\n",
    "pembelian properti.**\n",
    "\n",
    "Bayangkan kamu sedang bekerja di sebuah bank yang menyediakan layanan pinjaman\n",
    "uang untuk pembelian properti. Pelanggan-pelanggan program ini merupakan nasabah di\n",
    "bank tersebut. Kamu diberikan data yang berisi semua data pribadi nasabah dan\n",
    "sekaligus rekam jejak kreditnya dalam satu periode. Saat ini kamu diminta untuk\n",
    "menganalisis bagaimana perilaku pelanggan yang mengajukan pinjaman ke bank\n",
    "tersebut\n",
    "\n",
    "\n"
   ]
  },
  {
   "cell_type": "code",
   "execution_count": 197,
   "id": "bdcee19f",
   "metadata": {},
   "outputs": [],
   "source": [
    "import pandas as pd\n",
    "import numpy as np\n",
    "import seaborn as sns\n",
    "import matplotlib.pyplot as plt\n",
    "%matplotlib inline\n",
    "\n",
    "import warnings\n",
    "warnings.simplefilter(\"ignore\")"
   ]
  },
  {
   "cell_type": "code",
   "execution_count": 198,
   "id": "8166848e",
   "metadata": {},
   "outputs": [],
   "source": [
    "df1 = pd.read_csv('csv/loan_customer.csv')"
   ]
  },
  {
   "cell_type": "code",
   "execution_count": 199,
   "id": "d5f309bb",
   "metadata": {},
   "outputs": [
    {
     "data": {
      "text/html": [
       "<div>\n",
       "<style scoped>\n",
       "    .dataframe tbody tr th:only-of-type {\n",
       "        vertical-align: middle;\n",
       "    }\n",
       "\n",
       "    .dataframe tbody tr th {\n",
       "        vertical-align: top;\n",
       "    }\n",
       "\n",
       "    .dataframe thead th {\n",
       "        text-align: right;\n",
       "    }\n",
       "</style>\n",
       "<table border=\"1\" class=\"dataframe\">\n",
       "  <thead>\n",
       "    <tr style=\"text-align: right;\">\n",
       "      <th></th>\n",
       "      <th>loan_id</th>\n",
       "      <th>birth_date</th>\n",
       "      <th>phone_number</th>\n",
       "      <th>gender</th>\n",
       "      <th>married</th>\n",
       "      <th>dependents</th>\n",
       "      <th>education</th>\n",
       "      <th>self_employed</th>\n",
       "      <th>applicant_income</th>\n",
       "      <th>coapplicant_income</th>\n",
       "      <th>loan_amount</th>\n",
       "      <th>loan_term_month</th>\n",
       "      <th>loan_term_year</th>\n",
       "      <th>credit_history</th>\n",
       "      <th>has_credit_card</th>\n",
       "      <th>property_type</th>\n",
       "      <th>loan_status</th>\n",
       "    </tr>\n",
       "  </thead>\n",
       "  <tbody>\n",
       "    <tr>\n",
       "      <th>0</th>\n",
       "      <td>LP001002</td>\n",
       "      <td>1977-05-15</td>\n",
       "      <td>6.281142e+11</td>\n",
       "      <td>Male</td>\n",
       "      <td>No</td>\n",
       "      <td>0</td>\n",
       "      <td>Graduate</td>\n",
       "      <td>No</td>\n",
       "      <td>5849.0</td>\n",
       "      <td>0.0</td>\n",
       "      <td>100000</td>\n",
       "      <td>360</td>\n",
       "      <td>30</td>\n",
       "      <td>1.0</td>\n",
       "      <td>NaN</td>\n",
       "      <td>house</td>\n",
       "      <td>APPROVE</td>\n",
       "    </tr>\n",
       "    <tr>\n",
       "      <th>1</th>\n",
       "      <td>LP001003</td>\n",
       "      <td>1979-08-24</td>\n",
       "      <td>6.287764e+11</td>\n",
       "      <td>Male</td>\n",
       "      <td>Yes</td>\n",
       "      <td>1</td>\n",
       "      <td>Graduate</td>\n",
       "      <td>No</td>\n",
       "      <td>4583.0</td>\n",
       "      <td>1508.0</td>\n",
       "      <td>128000</td>\n",
       "      <td>360</td>\n",
       "      <td>30</td>\n",
       "      <td>1.0</td>\n",
       "      <td>NaN</td>\n",
       "      <td>studio</td>\n",
       "      <td>REJECT</td>\n",
       "    </tr>\n",
       "    <tr>\n",
       "      <th>2</th>\n",
       "      <td>LP001005</td>\n",
       "      <td>1991-03-28</td>\n",
       "      <td>6.281192e+11</td>\n",
       "      <td>Male</td>\n",
       "      <td>Yes</td>\n",
       "      <td>0</td>\n",
       "      <td>Graduate</td>\n",
       "      <td>Yes</td>\n",
       "      <td>3000.0</td>\n",
       "      <td>0.0</td>\n",
       "      <td>66000</td>\n",
       "      <td>360</td>\n",
       "      <td>30</td>\n",
       "      <td>1.0</td>\n",
       "      <td>NaN</td>\n",
       "      <td>house</td>\n",
       "      <td>APPROVE</td>\n",
       "    </tr>\n",
       "    <tr>\n",
       "      <th>3</th>\n",
       "      <td>LP001006</td>\n",
       "      <td>1980-06-02</td>\n",
       "      <td>6.285634e+10</td>\n",
       "      <td>Male</td>\n",
       "      <td>Yes</td>\n",
       "      <td>0</td>\n",
       "      <td>Not Graduate</td>\n",
       "      <td>No</td>\n",
       "      <td>2583.0</td>\n",
       "      <td>2358.0</td>\n",
       "      <td>120000</td>\n",
       "      <td>360</td>\n",
       "      <td>30</td>\n",
       "      <td>1.0</td>\n",
       "      <td>NaN</td>\n",
       "      <td>house</td>\n",
       "      <td>APPROVE</td>\n",
       "    </tr>\n",
       "    <tr>\n",
       "      <th>4</th>\n",
       "      <td>LP001008</td>\n",
       "      <td>1989-05-19</td>\n",
       "      <td>6.281130e+11</td>\n",
       "      <td>Male</td>\n",
       "      <td>No</td>\n",
       "      <td>0</td>\n",
       "      <td>Graduate</td>\n",
       "      <td>No</td>\n",
       "      <td>6000.0</td>\n",
       "      <td>0.0</td>\n",
       "      <td>141000</td>\n",
       "      <td>360</td>\n",
       "      <td>30</td>\n",
       "      <td>1.0</td>\n",
       "      <td>NaN</td>\n",
       "      <td>house</td>\n",
       "      <td>APPROVE</td>\n",
       "    </tr>\n",
       "  </tbody>\n",
       "</table>\n",
       "</div>"
      ],
      "text/plain": [
       "    loan_id  birth_date  phone_number gender married dependents     education  \\\n",
       "0  LP001002  1977-05-15  6.281142e+11   Male      No          0      Graduate   \n",
       "1  LP001003  1979-08-24  6.287764e+11   Male     Yes          1      Graduate   \n",
       "2  LP001005  1991-03-28  6.281192e+11   Male     Yes          0      Graduate   \n",
       "3  LP001006  1980-06-02  6.285634e+10   Male     Yes          0  Not Graduate   \n",
       "4  LP001008  1989-05-19  6.281130e+11   Male      No          0      Graduate   \n",
       "\n",
       "  self_employed  applicant_income  coapplicant_income  loan_amount  \\\n",
       "0            No            5849.0                 0.0       100000   \n",
       "1            No            4583.0              1508.0       128000   \n",
       "2           Yes            3000.0                 0.0        66000   \n",
       "3            No            2583.0              2358.0       120000   \n",
       "4            No            6000.0                 0.0       141000   \n",
       "\n",
       "   loan_term_month  loan_term_year  credit_history has_credit_card  \\\n",
       "0              360              30             1.0             NaN   \n",
       "1              360              30             1.0             NaN   \n",
       "2              360              30             1.0             NaN   \n",
       "3              360              30             1.0             NaN   \n",
       "4              360              30             1.0             NaN   \n",
       "\n",
       "  property_type loan_status  \n",
       "0         house     APPROVE  \n",
       "1        studio      REJECT  \n",
       "2         house     APPROVE  \n",
       "3         house     APPROVE  \n",
       "4         house     APPROVE  "
      ]
     },
     "execution_count": 199,
     "metadata": {},
     "output_type": "execute_result"
    }
   ],
   "source": [
    "df1.head()"
   ]
  },
  {
   "cell_type": "code",
   "execution_count": 200,
   "id": "56719711",
   "metadata": {},
   "outputs": [
    {
     "name": "stdout",
     "output_type": "stream",
     "text": [
      "<class 'pandas.core.frame.DataFrame'>\n",
      "RangeIndex: 621 entries, 0 to 620\n",
      "Data columns (total 17 columns):\n",
      " #   Column              Non-Null Count  Dtype  \n",
      "---  ------              --------------  -----  \n",
      " 0   loan_id             621 non-null    object \n",
      " 1   birth_date          572 non-null    object \n",
      " 2   phone_number        569 non-null    float64\n",
      " 3   gender              608 non-null    object \n",
      " 4   married             618 non-null    object \n",
      " 5   dependents          605 non-null    object \n",
      " 6   education           620 non-null    object \n",
      " 7   self_employed       588 non-null    object \n",
      " 8   applicant_income    612 non-null    float64\n",
      " 9   coapplicant_income  621 non-null    float64\n",
      " 10  loan_amount         621 non-null    int64  \n",
      " 11  loan_term_month     621 non-null    int64  \n",
      " 12  loan_term_year      621 non-null    int64  \n",
      " 13  credit_history      570 non-null    float64\n",
      " 14  has_credit_card     88 non-null     object \n",
      " 15  property_type       620 non-null    object \n",
      " 16  loan_status         621 non-null    object \n",
      "dtypes: float64(4), int64(3), object(10)\n",
      "memory usage: 82.6+ KB\n"
     ]
    }
   ],
   "source": [
    "df1.info()"
   ]
  },
  {
   "cell_type": "code",
   "execution_count": 201,
   "id": "89e93e6b",
   "metadata": {},
   "outputs": [
    {
     "data": {
      "text/plain": [
       "(621, 17)"
      ]
     },
     "execution_count": 201,
     "metadata": {},
     "output_type": "execute_result"
    }
   ],
   "source": [
    "df1.shape"
   ]
  },
  {
   "cell_type": "markdown",
   "id": "8afacc8d",
   "metadata": {},
   "source": [
    "terdapat 621 baris, dan 17 kolom"
   ]
  },
  {
   "cell_type": "markdown",
   "id": "8903d0b3",
   "metadata": {},
   "source": [
    "## Data Preprocessing"
   ]
  },
  {
   "cell_type": "markdown",
   "id": "a38747d6",
   "metadata": {},
   "source": [
    "- Handling missing value\n",
    "- Handling duplicated data\n",
    "- Handling outlier\n",
    "- Feature encoding"
   ]
  },
  {
   "cell_type": "code",
   "execution_count": 202,
   "id": "8ce570f4",
   "metadata": {},
   "outputs": [
    {
     "data": {
      "text/plain": [
       "loan_id                 0\n",
       "birth_date             49\n",
       "phone_number           52\n",
       "gender                 13\n",
       "married                 3\n",
       "dependents             16\n",
       "education               1\n",
       "self_employed          33\n",
       "applicant_income        9\n",
       "coapplicant_income      0\n",
       "loan_amount             0\n",
       "loan_term_month         0\n",
       "loan_term_year          0\n",
       "credit_history         51\n",
       "has_credit_card       533\n",
       "property_type           1\n",
       "loan_status             0\n",
       "dtype: int64"
      ]
     },
     "execution_count": 202,
     "metadata": {},
     "output_type": "execute_result"
    }
   ],
   "source": [
    "df1.isnull().sum()"
   ]
  },
  {
   "cell_type": "code",
   "execution_count": 203,
   "id": "3adf3155",
   "metadata": {},
   "outputs": [
    {
     "data": {
      "text/plain": [
       "loan_id                0.00\n",
       "birth_date             7.89\n",
       "phone_number           8.37\n",
       "gender                 2.09\n",
       "married                0.48\n",
       "dependents             2.58\n",
       "education              0.16\n",
       "self_employed          5.31\n",
       "applicant_income       1.45\n",
       "coapplicant_income     0.00\n",
       "loan_amount            0.00\n",
       "loan_term_month        0.00\n",
       "loan_term_year         0.00\n",
       "credit_history         8.21\n",
       "has_credit_card       85.83\n",
       "property_type          0.16\n",
       "loan_status            0.00\n",
       "dtype: float64"
      ]
     },
     "execution_count": 203,
     "metadata": {},
     "output_type": "execute_result"
    }
   ],
   "source": [
    "round(df1.isnull().sum()/df1.shape[0]*100, 2)"
   ]
  },
  {
   "cell_type": "markdown",
   "id": "375d7a22",
   "metadata": {},
   "source": [
    "- yang memiliki banyak missing values adalah kolom has_credit_card yaitu sebanyak 533 atau 85%"
   ]
  },
  {
   "cell_type": "code",
   "execution_count": 204,
   "id": "4a41f918",
   "metadata": {},
   "outputs": [
    {
     "data": {
      "text/plain": [
       "1"
      ]
     },
     "execution_count": 204,
     "metadata": {},
     "output_type": "execute_result"
    }
   ],
   "source": [
    "df1.duplicated().sum()"
   ]
  },
  {
   "cell_type": "code",
   "execution_count": 205,
   "id": "81acc1b8",
   "metadata": {
    "scrolled": true
   },
   "outputs": [
    {
     "data": {
      "text/html": [
       "<div>\n",
       "<style scoped>\n",
       "    .dataframe tbody tr th:only-of-type {\n",
       "        vertical-align: middle;\n",
       "    }\n",
       "\n",
       "    .dataframe tbody tr th {\n",
       "        vertical-align: top;\n",
       "    }\n",
       "\n",
       "    .dataframe thead th {\n",
       "        text-align: right;\n",
       "    }\n",
       "</style>\n",
       "<table border=\"1\" class=\"dataframe\">\n",
       "  <thead>\n",
       "    <tr style=\"text-align: right;\">\n",
       "      <th></th>\n",
       "      <th>phone_number</th>\n",
       "      <th>applicant_income</th>\n",
       "      <th>coapplicant_income</th>\n",
       "      <th>loan_amount</th>\n",
       "      <th>loan_term_month</th>\n",
       "      <th>loan_term_year</th>\n",
       "      <th>credit_history</th>\n",
       "    </tr>\n",
       "  </thead>\n",
       "  <tbody>\n",
       "    <tr>\n",
       "      <th>count</th>\n",
       "      <td>5.690000e+02</td>\n",
       "      <td>612.000000</td>\n",
       "      <td>621.000000</td>\n",
       "      <td>621.000000</td>\n",
       "      <td>621.000000</td>\n",
       "      <td>621.000000</td>\n",
       "      <td>570.000000</td>\n",
       "    </tr>\n",
       "    <tr>\n",
       "      <th>mean</th>\n",
       "      <td>5.468552e+11</td>\n",
       "      <td>5681.549020</td>\n",
       "      <td>1616.874267</td>\n",
       "      <td>145133.655395</td>\n",
       "      <td>342.608696</td>\n",
       "      <td>28.550725</td>\n",
       "      <td>0.842105</td>\n",
       "    </tr>\n",
       "    <tr>\n",
       "      <th>std</th>\n",
       "      <td>1.987860e+11</td>\n",
       "      <td>9056.454103</td>\n",
       "      <td>2915.075138</td>\n",
       "      <td>84011.115879</td>\n",
       "      <td>64.090837</td>\n",
       "      <td>5.340903</td>\n",
       "      <td>0.364963</td>\n",
       "    </tr>\n",
       "    <tr>\n",
       "      <th>min</th>\n",
       "      <td>6.281101e+10</td>\n",
       "      <td>150.000000</td>\n",
       "      <td>0.000000</td>\n",
       "      <td>9000.000000</td>\n",
       "      <td>12.000000</td>\n",
       "      <td>1.000000</td>\n",
       "      <td>0.000000</td>\n",
       "    </tr>\n",
       "    <tr>\n",
       "      <th>25%</th>\n",
       "      <td>6.281140e+11</td>\n",
       "      <td>2874.500000</td>\n",
       "      <td>0.000000</td>\n",
       "      <td>100000.000000</td>\n",
       "      <td>360.000000</td>\n",
       "      <td>30.000000</td>\n",
       "      <td>1.000000</td>\n",
       "    </tr>\n",
       "    <tr>\n",
       "      <th>50%</th>\n",
       "      <td>6.281343e+11</td>\n",
       "      <td>3812.500000</td>\n",
       "      <td>1167.000000</td>\n",
       "      <td>125000.000000</td>\n",
       "      <td>360.000000</td>\n",
       "      <td>30.000000</td>\n",
       "      <td>1.000000</td>\n",
       "    </tr>\n",
       "    <tr>\n",
       "      <th>75%</th>\n",
       "      <td>6.285665e+11</td>\n",
       "      <td>5815.750000</td>\n",
       "      <td>2302.000000</td>\n",
       "      <td>165000.000000</td>\n",
       "      <td>360.000000</td>\n",
       "      <td>30.000000</td>\n",
       "      <td>1.000000</td>\n",
       "    </tr>\n",
       "    <tr>\n",
       "      <th>max</th>\n",
       "      <td>6.287799e+11</td>\n",
       "      <td>170578.000000</td>\n",
       "      <td>41667.000000</td>\n",
       "      <td>700000.000000</td>\n",
       "      <td>480.000000</td>\n",
       "      <td>40.000000</td>\n",
       "      <td>1.000000</td>\n",
       "    </tr>\n",
       "  </tbody>\n",
       "</table>\n",
       "</div>"
      ],
      "text/plain": [
       "       phone_number  applicant_income  coapplicant_income    loan_amount  \\\n",
       "count  5.690000e+02        612.000000          621.000000     621.000000   \n",
       "mean   5.468552e+11       5681.549020         1616.874267  145133.655395   \n",
       "std    1.987860e+11       9056.454103         2915.075138   84011.115879   \n",
       "min    6.281101e+10        150.000000            0.000000    9000.000000   \n",
       "25%    6.281140e+11       2874.500000            0.000000  100000.000000   \n",
       "50%    6.281343e+11       3812.500000         1167.000000  125000.000000   \n",
       "75%    6.285665e+11       5815.750000         2302.000000  165000.000000   \n",
       "max    6.287799e+11     170578.000000        41667.000000  700000.000000   \n",
       "\n",
       "       loan_term_month  loan_term_year  credit_history  \n",
       "count       621.000000      621.000000      570.000000  \n",
       "mean        342.608696       28.550725        0.842105  \n",
       "std          64.090837        5.340903        0.364963  \n",
       "min          12.000000        1.000000        0.000000  \n",
       "25%         360.000000       30.000000        1.000000  \n",
       "50%         360.000000       30.000000        1.000000  \n",
       "75%         360.000000       30.000000        1.000000  \n",
       "max         480.000000       40.000000        1.000000  "
      ]
     },
     "execution_count": 205,
     "metadata": {},
     "output_type": "execute_result"
    }
   ],
   "source": [
    "df1.describe()"
   ]
  },
  {
   "cell_type": "markdown",
   "id": "041da59f",
   "metadata": {},
   "source": [
    "**has credit card**"
   ]
  },
  {
   "cell_type": "code",
   "execution_count": 206,
   "id": "ecfbf9e3",
   "metadata": {},
   "outputs": [
    {
     "data": {
      "text/plain": [
       "no     52\n",
       "yes    36\n",
       "Name: has_credit_card, dtype: int64"
      ]
     },
     "execution_count": 206,
     "metadata": {},
     "output_type": "execute_result"
    }
   ],
   "source": [
    "df1['has_credit_card'].value_counts()"
   ]
  },
  {
   "cell_type": "markdown",
   "id": "b9ce1933",
   "metadata": {},
   "source": [
    "- dilihat dari sini 15% dari has credit memiliki dominan No daripada Yes\n",
    "- karena 85% NaN maka pertimbangannya adalah penghapusan kolom"
   ]
  },
  {
   "cell_type": "code",
   "execution_count": 207,
   "id": "0a636101",
   "metadata": {},
   "outputs": [],
   "source": [
    "df1.drop(['has_credit_card'], axis=1, inplace=True)"
   ]
  },
  {
   "cell_type": "code",
   "execution_count": 208,
   "id": "f7d6e980",
   "metadata": {},
   "outputs": [
    {
     "data": {
      "text/html": [
       "<div>\n",
       "<style scoped>\n",
       "    .dataframe tbody tr th:only-of-type {\n",
       "        vertical-align: middle;\n",
       "    }\n",
       "\n",
       "    .dataframe tbody tr th {\n",
       "        vertical-align: top;\n",
       "    }\n",
       "\n",
       "    .dataframe thead th {\n",
       "        text-align: right;\n",
       "    }\n",
       "</style>\n",
       "<table border=\"1\" class=\"dataframe\">\n",
       "  <thead>\n",
       "    <tr style=\"text-align: right;\">\n",
       "      <th></th>\n",
       "      <th>loan_id</th>\n",
       "      <th>birth_date</th>\n",
       "      <th>phone_number</th>\n",
       "      <th>gender</th>\n",
       "      <th>married</th>\n",
       "      <th>dependents</th>\n",
       "      <th>education</th>\n",
       "      <th>self_employed</th>\n",
       "      <th>applicant_income</th>\n",
       "      <th>coapplicant_income</th>\n",
       "      <th>loan_amount</th>\n",
       "      <th>loan_term_month</th>\n",
       "      <th>loan_term_year</th>\n",
       "      <th>credit_history</th>\n",
       "      <th>property_type</th>\n",
       "      <th>loan_status</th>\n",
       "    </tr>\n",
       "  </thead>\n",
       "  <tbody>\n",
       "    <tr>\n",
       "      <th>0</th>\n",
       "      <td>LP001002</td>\n",
       "      <td>1977-05-15</td>\n",
       "      <td>6.281142e+11</td>\n",
       "      <td>Male</td>\n",
       "      <td>No</td>\n",
       "      <td>0</td>\n",
       "      <td>Graduate</td>\n",
       "      <td>No</td>\n",
       "      <td>5849.0</td>\n",
       "      <td>0.0</td>\n",
       "      <td>100000</td>\n",
       "      <td>360</td>\n",
       "      <td>30</td>\n",
       "      <td>1.0</td>\n",
       "      <td>house</td>\n",
       "      <td>APPROVE</td>\n",
       "    </tr>\n",
       "    <tr>\n",
       "      <th>1</th>\n",
       "      <td>LP001003</td>\n",
       "      <td>1979-08-24</td>\n",
       "      <td>6.287764e+11</td>\n",
       "      <td>Male</td>\n",
       "      <td>Yes</td>\n",
       "      <td>1</td>\n",
       "      <td>Graduate</td>\n",
       "      <td>No</td>\n",
       "      <td>4583.0</td>\n",
       "      <td>1508.0</td>\n",
       "      <td>128000</td>\n",
       "      <td>360</td>\n",
       "      <td>30</td>\n",
       "      <td>1.0</td>\n",
       "      <td>studio</td>\n",
       "      <td>REJECT</td>\n",
       "    </tr>\n",
       "  </tbody>\n",
       "</table>\n",
       "</div>"
      ],
      "text/plain": [
       "    loan_id  birth_date  phone_number gender married dependents education  \\\n",
       "0  LP001002  1977-05-15  6.281142e+11   Male      No          0  Graduate   \n",
       "1  LP001003  1979-08-24  6.287764e+11   Male     Yes          1  Graduate   \n",
       "\n",
       "  self_employed  applicant_income  coapplicant_income  loan_amount  \\\n",
       "0            No            5849.0                 0.0       100000   \n",
       "1            No            4583.0              1508.0       128000   \n",
       "\n",
       "   loan_term_month  loan_term_year  credit_history property_type loan_status  \n",
       "0              360              30             1.0         house     APPROVE  \n",
       "1              360              30             1.0        studio      REJECT  "
      ]
     },
     "execution_count": 208,
     "metadata": {},
     "output_type": "execute_result"
    }
   ],
   "source": [
    "df1.head(2)"
   ]
  },
  {
   "cell_type": "code",
   "execution_count": 209,
   "id": "97ad8906",
   "metadata": {
    "scrolled": true
   },
   "outputs": [
    {
     "data": {
      "text/plain": [
       "Index(['loan_id', 'birth_date', 'phone_number', 'gender', 'married',\n",
       "       'dependents', 'education', 'self_employed', 'applicant_income',\n",
       "       'coapplicant_income', 'loan_amount', 'loan_term_month',\n",
       "       'loan_term_year', 'credit_history', 'property_type', 'loan_status'],\n",
       "      dtype='object')"
      ]
     },
     "execution_count": 209,
     "metadata": {},
     "output_type": "execute_result"
    }
   ],
   "source": [
    "df1.columns"
   ]
  },
  {
   "cell_type": "markdown",
   "id": "7cd1469a",
   "metadata": {},
   "source": [
    "### Handling Missing Values and Handling Outlier"
   ]
  },
  {
   "cell_type": "markdown",
   "id": "0b7e995a",
   "metadata": {},
   "source": [
    "**phone number**"
   ]
  },
  {
   "cell_type": "code",
   "execution_count": 210,
   "id": "d71ead65",
   "metadata": {},
   "outputs": [],
   "source": [
    "df1.dropna(inplace=True)"
   ]
  },
  {
   "cell_type": "markdown",
   "id": "08338e51",
   "metadata": {},
   "source": [
    "**gender**"
   ]
  },
  {
   "cell_type": "code",
   "execution_count": 211,
   "id": "de42ec86",
   "metadata": {},
   "outputs": [
    {
     "data": {
      "text/plain": [
       "<seaborn.axisgrid.FacetGrid at 0x1f01ad53b20>"
      ]
     },
     "execution_count": 211,
     "metadata": {},
     "output_type": "execute_result"
    },
    {
     "data": {
      "image/png": "[encoded data removed]",
      "text/plain": [
       "<Figure size 550x250 with 1 Axes>"
      ]
     },
     "metadata": {},
     "output_type": "display_data"
    }
   ],
   "source": [
    "sns.catplot(y='gender', kind='count', data=df1, height=2.5, aspect=2.2, palette = 'deep')"
   ]
  },
  {
   "cell_type": "markdown",
   "id": "573509b4",
   "metadata": {},
   "source": [
    "**married**"
   ]
  },
  {
   "cell_type": "code",
   "execution_count": 212,
   "id": "046c42ba",
   "metadata": {},
   "outputs": [
    {
     "data": {
      "text/plain": [
       "<seaborn.axisgrid.FacetGrid at 0x1f019b3a760>"
      ]
     },
     "execution_count": 212,
     "metadata": {},
     "output_type": "execute_result"
    },
    {
     "data": {
      "image/png": "[encoded data removed]",
      "text/plain": [
       "<Figure size 550x250 with 1 Axes>"
      ]
     },
     "metadata": {},
     "output_type": "display_data"
    }
   ],
   "source": [
    "sns.catplot(y='married', kind='count', data=df1, height=2.5, aspect=2.2, palette = 'deep')"
   ]
  },
  {
   "cell_type": "markdown",
   "id": "ac7081e5",
   "metadata": {},
   "source": [
    "**dependents**"
   ]
  },
  {
   "cell_type": "code",
   "execution_count": 213,
   "id": "7cb6f740",
   "metadata": {
    "scrolled": true
   },
   "outputs": [
    {
     "data": {
      "text/plain": [
       "<seaborn.axisgrid.FacetGrid at 0x1f01b25b340>"
      ]
     },
     "execution_count": 213,
     "metadata": {},
     "output_type": "execute_result"
    },
    {
     "data": {
      "image/png": "[encoded data removed]",
      "text/plain": [
       "<Figure size 550x250 with 1 Axes>"
      ]
     },
     "metadata": {},
     "output_type": "display_data"
    }
   ],
   "source": [
    "sns.catplot(y='dependents', kind='count', data=df1, height=2.5, aspect=2.2, palette = 'deep')"
   ]
  },
  {
   "cell_type": "markdown",
   "id": "6d2784a3",
   "metadata": {},
   "source": [
    "**education**"
   ]
  },
  {
   "cell_type": "code",
   "execution_count": 214,
   "id": "6045c19c",
   "metadata": {
    "scrolled": true
   },
   "outputs": [
    {
     "data": {
      "text/plain": [
       "<seaborn.axisgrid.FacetGrid at 0x1f01b25b0d0>"
      ]
     },
     "execution_count": 214,
     "metadata": {},
     "output_type": "execute_result"
    },
    {
     "data": {
      "image/png": "[encoded data removed]",
      "text/plain": [
       "<Figure size 550x250 with 1 Axes>"
      ]
     },
     "metadata": {},
     "output_type": "display_data"
    }
   ],
   "source": [
    "sns.catplot(y='education', kind='count', data=df1, height=2.5, aspect=2.2, palette = 'deep')"
   ]
  },
  {
   "cell_type": "code",
   "execution_count": 215,
   "id": "8c43ad97",
   "metadata": {},
   "outputs": [
    {
     "data": {
      "text/plain": [
       "Index(['loan_id', 'birth_date', 'phone_number', 'gender', 'married',\n",
       "       'dependents', 'education', 'self_employed', 'applicant_income',\n",
       "       'coapplicant_income', 'loan_amount', 'loan_term_month',\n",
       "       'loan_term_year', 'credit_history', 'property_type', 'loan_status'],\n",
       "      dtype='object')"
      ]
     },
     "execution_count": 215,
     "metadata": {},
     "output_type": "execute_result"
    }
   ],
   "source": [
    "df1.columns"
   ]
  },
  {
   "cell_type": "markdown",
   "id": "55912951",
   "metadata": {},
   "source": [
    "**self_employed**"
   ]
  },
  {
   "cell_type": "code",
   "execution_count": 216,
   "id": "d3aaa274",
   "metadata": {},
   "outputs": [
    {
     "data": {
      "text/plain": [
       "<seaborn.axisgrid.FacetGrid at 0x1f01b4a9040>"
      ]
     },
     "execution_count": 216,
     "metadata": {},
     "output_type": "execute_result"
    },
    {
     "data": {
      "image/png": "[encoded data removed]",
      "text/plain": [
       "<Figure size 550x250 with 1 Axes>"
      ]
     },
     "metadata": {},
     "output_type": "display_data"
    }
   ],
   "source": [
    "sns.catplot(y='self_employed', kind='count', data=df1, height=2.5, aspect=2.2, palette = 'deep')"
   ]
  },
  {
   "cell_type": "markdown",
   "id": "96554e28",
   "metadata": {},
   "source": [
    "_conclusion_: \n",
    "- _Most of those who apply for loans are men with university degrees, self employed_\n",
    "- _Most of those who apply for loans are married_\n",
    "- _for the level of dependents they are mostly at levels 0, 1 and 2_"
   ]
  },
  {
   "cell_type": "markdown",
   "id": "b8a85c0e",
   "metadata": {},
   "source": [
    "**applicant_income**"
   ]
  },
  {
   "cell_type": "code",
   "execution_count": 217,
   "id": "98c740b2",
   "metadata": {},
   "outputs": [
    {
     "data": {
      "text/plain": [
       "<AxesSubplot:xlabel='applicant_income', ylabel='Density'>"
      ]
     },
     "execution_count": 217,
     "metadata": {},
     "output_type": "execute_result"
    },
    {
     "data": {
      "image/png": "[encoded data removed]",
      "text/plain": [
       "<Figure size 400x300 with 1 Axes>"
      ]
     },
     "metadata": {},
     "output_type": "display_data"
    }
   ],
   "source": [
    "fig = plt.figure(figsize=(4, 3))\n",
    "sns.distplot(df1['applicant_income'])"
   ]
  },
  {
   "cell_type": "code",
   "execution_count": 218,
   "id": "6d040bae",
   "metadata": {},
   "outputs": [
    {
     "data": {
      "text/plain": [
       "<AxesSubplot:xlabel='applicant_income'>"
      ]
     },
     "execution_count": 218,
     "metadata": {},
     "output_type": "execute_result"
    },
    {
     "data": {
      "image/png": "[encoded data removed]",
      "text/plain": [
       "<Figure size 700x500 with 1 Axes>"
      ]
     },
     "metadata": {},
     "output_type": "display_data"
    }
   ],
   "source": [
    "fig = plt.figure(figsize=(7, 5))\n",
    "sns.boxplot(x='applicant_income', data=df1)"
   ]
  },
  {
   "cell_type": "markdown",
   "id": "64b8ad36",
   "metadata": {},
   "source": [
    "**loan_term_month**"
   ]
  },
  {
   "cell_type": "code",
   "execution_count": 219,
   "id": "091e72ef",
   "metadata": {
    "scrolled": true
   },
   "outputs": [
    {
     "data": {
      "text/plain": [
       "360    372\n",
       "180     31\n",
       "480     11\n",
       "300      9\n",
       "84       3\n",
       "120      2\n",
       "60       2\n",
       "240      2\n",
       "36       2\n",
       "Name: loan_term_month, dtype: int64"
      ]
     },
     "execution_count": 219,
     "metadata": {},
     "output_type": "execute_result"
    }
   ],
   "source": [
    "df1['loan_term_month'].value_counts()"
   ]
  },
  {
   "cell_type": "code",
   "execution_count": 220,
   "id": "53585e22",
   "metadata": {},
   "outputs": [
    {
     "data": {
      "text/plain": [
       "<AxesSubplot:xlabel='loan_term_month', ylabel='Density'>"
      ]
     },
     "execution_count": 220,
     "metadata": {},
     "output_type": "execute_result"
    },
    {
     "data": {
      "image/png": "[encoded data removed]",
      "text/plain": [
       "<Figure size 400x300 with 1 Axes>"
      ]
     },
     "metadata": {},
     "output_type": "display_data"
    }
   ],
   "source": [
    "fig = plt.figure(figsize=(4, 3))\n",
    "sns.distplot(df1['loan_term_month'])"
   ]
  },
  {
   "cell_type": "code",
   "execution_count": 221,
   "id": "85f7401f",
   "metadata": {},
   "outputs": [
    {
     "data": {
      "text/plain": [
       "<seaborn.axisgrid.FacetGrid at 0x1f01b6774f0>"
      ]
     },
     "execution_count": 221,
     "metadata": {},
     "output_type": "execute_result"
    },
    {
     "data": {
      "image/png": "[encoded data removed]",
      "text/plain": [
       "<Figure size 550x250 with 1 Axes>"
      ]
     },
     "metadata": {},
     "output_type": "display_data"
    }
   ],
   "source": [
    "sns.catplot(y='loan_term_month', kind='count', data=df1, height=2.5, aspect=2.2, palette = 'deep')"
   ]
  },
  {
   "cell_type": "markdown",
   "id": "060810ed",
   "metadata": {},
   "source": [
    "**loan_term_year**"
   ]
  },
  {
   "cell_type": "code",
   "execution_count": 222,
   "id": "4e2e2a1d",
   "metadata": {
    "scrolled": true
   },
   "outputs": [
    {
     "data": {
      "text/plain": [
       "0"
      ]
     },
     "execution_count": 222,
     "metadata": {},
     "output_type": "execute_result"
    }
   ],
   "source": [
    "df1['loan_term_year'].isnull().sum()"
   ]
  },
  {
   "cell_type": "code",
   "execution_count": 223,
   "id": "e7f4eb6a",
   "metadata": {
    "scrolled": true
   },
   "outputs": [
    {
     "data": {
      "text/plain": [
       "<seaborn.axisgrid.FacetGrid at 0x1f01b77f490>"
      ]
     },
     "execution_count": 223,
     "metadata": {},
     "output_type": "execute_result"
    },
    {
     "data": {
      "image/png": "[encoded data removed]",
      "text/plain": [
       "<Figure size 550x250 with 1 Axes>"
      ]
     },
     "metadata": {},
     "output_type": "display_data"
    }
   ],
   "source": [
    "sns.catplot(y='loan_term_year', kind='count', data=df1, height=2.5, aspect=2.2, palette = 'deep')"
   ]
  },
  {
   "cell_type": "code",
   "execution_count": 224,
   "id": "57d740b1",
   "metadata": {
    "scrolled": true
   },
   "outputs": [
    {
     "data": {
      "text/plain": [
       "<AxesSubplot:xlabel='loan_term_year', ylabel='Density'>"
      ]
     },
     "execution_count": 224,
     "metadata": {},
     "output_type": "execute_result"
    },
    {
     "data": {
      "image/png": "[encoded data removed]",
      "text/plain": [
       "<Figure size 400x300 with 1 Axes>"
      ]
     },
     "metadata": {},
     "output_type": "display_data"
    }
   ],
   "source": [
    "fig = plt.figure(figsize=(4, 3))\n",
    "sns.distplot(df1['loan_term_year'])"
   ]
  },
  {
   "cell_type": "markdown",
   "id": "994badbb",
   "metadata": {},
   "source": [
    "**loan_amount**"
   ]
  },
  {
   "cell_type": "code",
   "execution_count": 225,
   "id": "8fa0a2ce",
   "metadata": {
    "scrolled": true
   },
   "outputs": [
    {
     "data": {
      "text/plain": [
       "<AxesSubplot:xlabel='loan_amount', ylabel='Density'>"
      ]
     },
     "execution_count": 225,
     "metadata": {},
     "output_type": "execute_result"
    },
    {
     "data": {
      "image/png": "[encoded data removed]",
      "text/plain": [
       "<Figure size 400x300 with 1 Axes>"
      ]
     },
     "metadata": {},
     "output_type": "display_data"
    }
   ],
   "source": [
    "fig = plt.figure(figsize=(4, 3))\n",
    "sns.distplot(df1['loan_amount'])"
   ]
  },
  {
   "cell_type": "code",
   "execution_count": 226,
   "id": "e57c199d",
   "metadata": {},
   "outputs": [
    {
     "data": {
      "text/plain": [
       "<AxesSubplot:xlabel='loan_amount'>"
      ]
     },
     "execution_count": 226,
     "metadata": {},
     "output_type": "execute_result"
    },
    {
     "data": {
      "image/png": "[encoded data removed]",
      "text/plain": [
       "<Figure size 800x500 with 1 Axes>"
      ]
     },
     "metadata": {},
     "output_type": "display_data"
    }
   ],
   "source": [
    "fig = plt.figure(figsize=(8, 5))\n",
    "sns.boxplot(x='loan_amount', data=df1)"
   ]
  },
  {
   "cell_type": "markdown",
   "id": "06eb07f5",
   "metadata": {},
   "source": [
    "**credit_history**"
   ]
  },
  {
   "cell_type": "code",
   "execution_count": 227,
   "id": "406a9b41",
   "metadata": {},
   "outputs": [
    {
     "data": {
      "text/plain": [
       "<seaborn.axisgrid.FacetGrid at 0x1f01c97ba90>"
      ]
     },
     "execution_count": 227,
     "metadata": {},
     "output_type": "execute_result"
    },
    {
     "data": {
      "image/png": "[encoded data removed]",
      "text/plain": [
       "<Figure size 550x250 with 1 Axes>"
      ]
     },
     "metadata": {},
     "output_type": "display_data"
    }
   ],
   "source": [
    "sns.catplot(y='credit_history', kind='count', data=df1, height=2.5, aspect=2.2, palette = 'deep')"
   ]
  },
  {
   "cell_type": "markdown",
   "id": "bb4a4090",
   "metadata": {},
   "source": [
    "**property_type**"
   ]
  },
  {
   "cell_type": "code",
   "execution_count": 228,
   "id": "d7db9c9f",
   "metadata": {},
   "outputs": [
    {
     "data": {
      "text/plain": [
       "<seaborn.axisgrid.FacetGrid at 0x1f01c9e0040>"
      ]
     },
     "execution_count": 228,
     "metadata": {},
     "output_type": "execute_result"
    },
    {
     "data": {
      "image/png": "[encoded data removed]",
      "text/plain": [
       "<Figure size 550x250 with 1 Axes>"
      ]
     },
     "metadata": {},
     "output_type": "display_data"
    }
   ],
   "source": [
    "sns.catplot(y='property_type', kind='count', data=df1, height=2.5, aspect=2.2, palette = 'deep')"
   ]
  },
  {
   "cell_type": "markdown",
   "id": "f656dd7c",
   "metadata": {},
   "source": [
    "**loan_status**"
   ]
  },
  {
   "cell_type": "code",
   "execution_count": 229,
   "id": "a44b239a",
   "metadata": {
    "scrolled": true
   },
   "outputs": [
    {
     "data": {
      "text/plain": [
       "0"
      ]
     },
     "execution_count": 229,
     "metadata": {},
     "output_type": "execute_result"
    }
   ],
   "source": [
    "df1['loan_status'].isnull().sum()"
   ]
  },
  {
   "cell_type": "code",
   "execution_count": 230,
   "id": "a4420321",
   "metadata": {},
   "outputs": [
    {
     "data": {
      "text/plain": [
       "<seaborn.axisgrid.FacetGrid at 0x1f01ca01370>"
      ]
     },
     "execution_count": 230,
     "metadata": {},
     "output_type": "execute_result"
    },
    {
     "data": {
      "image/png": "[encoded data removed]",
      "text/plain": [
       "<Figure size 550x250 with 1 Axes>"
      ]
     },
     "metadata": {},
     "output_type": "display_data"
    }
   ],
   "source": [
    "sns.catplot(y='loan_status', kind='count', data=df1, height=2.5, aspect=2.2, palette = 'deep')"
   ]
  },
  {
   "cell_type": "markdown",
   "id": "cad16abc",
   "metadata": {},
   "source": [
    "**coapplicant_income**"
   ]
  },
  {
   "cell_type": "code",
   "execution_count": 231,
   "id": "27b53250",
   "metadata": {},
   "outputs": [
    {
     "data": {
      "text/plain": [
       "0"
      ]
     },
     "execution_count": 231,
     "metadata": {},
     "output_type": "execute_result"
    }
   ],
   "source": [
    "df1['coapplicant_income'].isnull().sum()"
   ]
  },
  {
   "cell_type": "code",
   "execution_count": 232,
   "id": "cbb6c642",
   "metadata": {
    "scrolled": false
   },
   "outputs": [
    {
     "data": {
      "text/plain": [
       "<AxesSubplot:xlabel='coapplicant_income', ylabel='Density'>"
      ]
     },
     "execution_count": 232,
     "metadata": {},
     "output_type": "execute_result"
    },
    {
     "data": {
      "image/png": "[encoded data removed]",
      "text/plain": [
       "<Figure size 400x300 with 1 Axes>"
      ]
     },
     "metadata": {},
     "output_type": "display_data"
    }
   ],
   "source": [
    "fig = plt.figure(figsize=(4, 3))\n",
    "sns.distplot(df1['coapplicant_income'])"
   ]
  },
  {
   "cell_type": "code",
   "execution_count": 233,
   "id": "5828a23c",
   "metadata": {},
   "outputs": [
    {
     "data": {
      "text/plain": [
       "<AxesSubplot:xlabel='coapplicant_income'>"
      ]
     },
     "execution_count": 233,
     "metadata": {},
     "output_type": "execute_result"
    },
    {
     "data": {
      "image/png": "[encoded data removed]",
      "text/plain": [
       "<Figure size 500x300 with 1 Axes>"
      ]
     },
     "metadata": {},
     "output_type": "display_data"
    }
   ],
   "source": [
    "fig = plt.figure(figsize=(5,3))\n",
    "sns.boxplot(x='coapplicant_income', data=df1)"
   ]
  },
  {
   "cell_type": "markdown",
   "id": "8d85cb9d",
   "metadata": {},
   "source": [
    "### checking to handle or not"
   ]
  },
  {
   "cell_type": "markdown",
   "id": "201418cb",
   "metadata": {},
   "source": [
    "**coapplicant_income**"
   ]
  },
  {
   "cell_type": "code",
   "execution_count": 234,
   "id": "f96e56d7",
   "metadata": {},
   "outputs": [],
   "source": [
    "Q1 = df1['coapplicant_income'].quantile(0.25)\n",
    "Q3 = df1['coapplicant_income'].quantile(0.75)\n",
    "IQR = Q3 - Q1"
   ]
  },
  {
   "cell_type": "code",
   "execution_count": 235,
   "id": "aa29559c",
   "metadata": {
    "scrolled": true
   },
   "outputs": [
    {
     "data": {
      "text/plain": [
       "2252.25"
      ]
     },
     "execution_count": 235,
     "metadata": {},
     "output_type": "execute_result"
    }
   ],
   "source": [
    "IQR"
   ]
  },
  {
   "cell_type": "code",
   "execution_count": 236,
   "id": "6b158a51",
   "metadata": {},
   "outputs": [],
   "source": [
    "lower_lin = Q1 - 1.5 * IQR\n",
    "upper_lin = Q3 + 1.5 * IQR"
   ]
  },
  {
   "cell_type": "code",
   "execution_count": 237,
   "id": "412ae272",
   "metadata": {},
   "outputs": [
    {
     "data": {
      "text/plain": [
       "-3378.375"
      ]
     },
     "execution_count": 237,
     "metadata": {},
     "output_type": "execute_result"
    }
   ],
   "source": [
    "lower_lin"
   ]
  },
  {
   "cell_type": "code",
   "execution_count": 238,
   "id": "a3b776ba",
   "metadata": {
    "scrolled": true
   },
   "outputs": [
    {
     "data": {
      "text/plain": [
       "5630.625"
      ]
     },
     "execution_count": 238,
     "metadata": {},
     "output_type": "execute_result"
    }
   ],
   "source": [
    "upper_lin"
   ]
  },
  {
   "cell_type": "code",
   "execution_count": 239,
   "id": "6f623695",
   "metadata": {
    "scrolled": false
   },
   "outputs": [
    {
     "data": {
      "text/plain": [
       "count      434.000000\n",
       "mean      1549.649585\n",
       "std       2538.432431\n",
       "min          0.000000\n",
       "25%          0.000000\n",
       "50%       1105.500000\n",
       "75%       2252.250000\n",
       "max      33837.000000\n",
       "Name: coapplicant_income, dtype: float64"
      ]
     },
     "execution_count": 239,
     "metadata": {},
     "output_type": "execute_result"
    }
   ],
   "source": [
    "df1['coapplicant_income'].describe()"
   ]
  },
  {
   "cell_type": "markdown",
   "id": "2df6273b",
   "metadata": {},
   "source": [
    "**handle coapp**"
   ]
  },
  {
   "cell_type": "code",
   "execution_count": 240,
   "id": "4d2c217c",
   "metadata": {},
   "outputs": [],
   "source": [
    "outlier_15_low = (df1['coapplicant_income'] < lower_lin)"
   ]
  },
  {
   "cell_type": "code",
   "execution_count": 241,
   "id": "1a99feaf",
   "metadata": {},
   "outputs": [],
   "source": [
    "outlier_15_up = (df1['coapplicant_income'] > upper_lin)"
   ]
  },
  {
   "cell_type": "code",
   "execution_count": 242,
   "id": "320a58bc",
   "metadata": {},
   "outputs": [
    {
     "data": {
      "text/plain": [
       "420"
      ]
     },
     "execution_count": 242,
     "metadata": {},
     "output_type": "execute_result"
    }
   ],
   "source": [
    "len(df1['coapplicant_income']) - (len( df1['coapplicant_income'][outlier_15_low]) + len( df1['coapplicant_income'][outlier_15_up])) "
   ]
  },
  {
   "cell_type": "code",
   "execution_count": 243,
   "id": "3aad3cb5",
   "metadata": {},
   "outputs": [
    {
     "data": {
      "text/plain": [
       "9      10968.0\n",
       "12      8106.0\n",
       "92      5654.0\n",
       "123     8980.0\n",
       "136     7750.0\n",
       "178    11300.0\n",
       "181     7250.0\n",
       "243     5701.0\n",
       "254     7101.0\n",
       "352     6250.0\n",
       "376     7873.0\n",
       "407    20000.0\n",
       "518     6666.0\n",
       "586    33837.0\n",
       "Name: coapplicant_income, dtype: float64"
      ]
     },
     "execution_count": 243,
     "metadata": {},
     "output_type": "execute_result"
    }
   ],
   "source": [
    "df1['coapplicant_income'][(outlier_15_low | outlier_15_up)]"
   ]
  },
  {
   "cell_type": "code",
   "execution_count": 244,
   "id": "bdc2559b",
   "metadata": {},
   "outputs": [
    {
     "data": {
      "text/plain": [
       "0         0.0\n",
       "1      1508.0\n",
       "2         0.0\n",
       "3      2358.0\n",
       "4         0.0\n",
       "        ...  \n",
       "615    1950.0\n",
       "616       0.0\n",
       "617       0.0\n",
       "618     240.0\n",
       "619       0.0\n",
       "Name: coapplicant_income, Length: 420, dtype: float64"
      ]
     },
     "execution_count": 244,
     "metadata": {},
     "output_type": "execute_result"
    }
   ],
   "source": [
    "df1['coapplicant_income'][-(outlier_15_low | outlier_15_up)]"
   ]
  },
  {
   "cell_type": "code",
   "execution_count": 245,
   "id": "a72959e9",
   "metadata": {},
   "outputs": [],
   "source": [
    "df1 = df1[~(outlier_15_low | outlier_15_up)]"
   ]
  },
  {
   "cell_type": "code",
   "execution_count": 246,
   "id": "9b496ea1",
   "metadata": {
    "scrolled": true
   },
   "outputs": [
    {
     "data": {
      "text/plain": [
       "count     420.000000\n",
       "mean     1250.266476\n",
       "std      1435.570803\n",
       "min         0.000000\n",
       "25%         0.000000\n",
       "50%      1005.000000\n",
       "75%      2114.250000\n",
       "max      5625.000000\n",
       "Name: coapplicant_income, dtype: float64"
      ]
     },
     "execution_count": 246,
     "metadata": {},
     "output_type": "execute_result"
    }
   ],
   "source": [
    "df1['coapplicant_income'].describe()"
   ]
  },
  {
   "cell_type": "markdown",
   "id": "ad318342",
   "metadata": {},
   "source": [
    "**loan_amount**"
   ]
  },
  {
   "cell_type": "code",
   "execution_count": 247,
   "id": "263264b6",
   "metadata": {},
   "outputs": [],
   "source": [
    "Q1 = df1['loan_amount'].quantile(0.25)\n",
    "Q3 = df1['loan_amount'].quantile(0.75)\n",
    "IQR = Q3 - Q1"
   ]
  },
  {
   "cell_type": "code",
   "execution_count": 248,
   "id": "f5f981ec",
   "metadata": {
    "scrolled": true
   },
   "outputs": [
    {
     "data": {
      "text/plain": [
       "62500.0"
      ]
     },
     "execution_count": 248,
     "metadata": {},
     "output_type": "execute_result"
    }
   ],
   "source": [
    "IQR"
   ]
  },
  {
   "cell_type": "code",
   "execution_count": 249,
   "id": "11b36c9b",
   "metadata": {},
   "outputs": [],
   "source": [
    "lower_lin = Q1 - 1.5 * IQR\n",
    "upper_lin = Q3 + 1.5 * IQR"
   ]
  },
  {
   "cell_type": "code",
   "execution_count": 250,
   "id": "3a6d4c14",
   "metadata": {},
   "outputs": [
    {
     "data": {
      "text/plain": [
       "6250.0"
      ]
     },
     "execution_count": 250,
     "metadata": {},
     "output_type": "execute_result"
    }
   ],
   "source": [
    "lower_lin"
   ]
  },
  {
   "cell_type": "code",
   "execution_count": 251,
   "id": "da70d507",
   "metadata": {
    "scrolled": true
   },
   "outputs": [
    {
     "data": {
      "text/plain": [
       "256250.0"
      ]
     },
     "execution_count": 251,
     "metadata": {},
     "output_type": "execute_result"
    }
   ],
   "source": [
    "upper_lin"
   ]
  },
  {
   "cell_type": "code",
   "execution_count": 252,
   "id": "0361f853",
   "metadata": {
    "scrolled": false
   },
   "outputs": [
    {
     "data": {
      "text/plain": [
       "count       420.000000\n",
       "mean     141052.380952\n",
       "std       75185.099315\n",
       "min        9000.000000\n",
       "25%      100000.000000\n",
       "50%      124000.000000\n",
       "75%      162500.000000\n",
       "max      600000.000000\n",
       "Name: loan_amount, dtype: float64"
      ]
     },
     "execution_count": 252,
     "metadata": {},
     "output_type": "execute_result"
    }
   ],
   "source": [
    "df1['loan_amount'].describe()"
   ]
  },
  {
   "cell_type": "code",
   "execution_count": 253,
   "id": "4a992703",
   "metadata": {},
   "outputs": [],
   "source": [
    "outlier_15_low = (df1['loan_amount'] < lower_lin)"
   ]
  },
  {
   "cell_type": "code",
   "execution_count": 254,
   "id": "89e1f927",
   "metadata": {},
   "outputs": [],
   "source": [
    "outlier_15_up = (df1['loan_amount'] > upper_lin)"
   ]
  },
  {
   "cell_type": "code",
   "execution_count": 255,
   "id": "d716df44",
   "metadata": {},
   "outputs": [
    {
     "data": {
      "text/plain": [
       "394"
      ]
     },
     "execution_count": 255,
     "metadata": {},
     "output_type": "execute_result"
    }
   ],
   "source": [
    "len(df1['loan_amount']) - (len( df1['loan_amount'][outlier_15_low]) + len( df1['loan_amount'][outlier_15_up])) "
   ]
  },
  {
   "cell_type": "code",
   "execution_count": 256,
   "id": "83ce2272",
   "metadata": {},
   "outputs": [
    {
     "data": {
      "text/plain": [
       "5      267000\n",
       "21     315000\n",
       "34     320000\n",
       "54     286000\n",
       "65     258000\n",
       "120    259000\n",
       "156    600000\n",
       "162    275000\n",
       "234    280000\n",
       "259    304000\n",
       "280    436000\n",
       "311    480000\n",
       "328    376000\n",
       "354    308000\n",
       "373    570000\n",
       "385    296000\n",
       "395    275000\n",
       "414    360000\n",
       "519    311000\n",
       "530    400000\n",
       "541    324000\n",
       "562    260000\n",
       "566    600000\n",
       "569    258000\n",
       "599    260000\n",
       "611    496000\n",
       "Name: loan_amount, dtype: int64"
      ]
     },
     "execution_count": 256,
     "metadata": {},
     "output_type": "execute_result"
    }
   ],
   "source": [
    "df1['loan_amount'][(outlier_15_low | outlier_15_up)]"
   ]
  },
  {
   "cell_type": "code",
   "execution_count": 257,
   "id": "9d642685",
   "metadata": {},
   "outputs": [
    {
     "data": {
      "text/plain": [
       "0      100000\n",
       "1      128000\n",
       "2       66000\n",
       "3      120000\n",
       "4      141000\n",
       "        ...  \n",
       "615    108000\n",
       "616     71000\n",
       "617     40000\n",
       "618    253000\n",
       "619    187000\n",
       "Name: loan_amount, Length: 394, dtype: int64"
      ]
     },
     "execution_count": 257,
     "metadata": {},
     "output_type": "execute_result"
    }
   ],
   "source": [
    "df1['loan_amount'][-(outlier_15_low | outlier_15_up)]"
   ]
  },
  {
   "cell_type": "code",
   "execution_count": 258,
   "id": "18dfa8e6",
   "metadata": {},
   "outputs": [],
   "source": [
    "df1 = df1[~(outlier_15_low | outlier_15_up)]"
   ]
  },
  {
   "cell_type": "markdown",
   "id": "e55fd6b7",
   "metadata": {},
   "source": [
    "**handle loan amount**"
   ]
  },
  {
   "cell_type": "code",
   "execution_count": 259,
   "id": "ab82700a",
   "metadata": {},
   "outputs": [],
   "source": [
    "outlier_15_low = (df1['loan_amount'] < lower_lin)"
   ]
  },
  {
   "cell_type": "code",
   "execution_count": 260,
   "id": "f3f0a417",
   "metadata": {},
   "outputs": [],
   "source": [
    "outlier_15_up = (df1['loan_amount'] > upper_lin)"
   ]
  },
  {
   "cell_type": "code",
   "execution_count": 261,
   "id": "3f79474e",
   "metadata": {},
   "outputs": [
    {
     "data": {
      "text/plain": [
       "394"
      ]
     },
     "execution_count": 261,
     "metadata": {},
     "output_type": "execute_result"
    }
   ],
   "source": [
    "len(df1['loan_amount']) - (len( df1['loan_amount'][outlier_15_low]) + len( df1['loan_amount'][outlier_15_up])) "
   ]
  },
  {
   "cell_type": "code",
   "execution_count": 262,
   "id": "8a3342fe",
   "metadata": {},
   "outputs": [
    {
     "data": {
      "text/plain": [
       "Series([], Name: loan_amount, dtype: int64)"
      ]
     },
     "execution_count": 262,
     "metadata": {},
     "output_type": "execute_result"
    }
   ],
   "source": [
    "df1['loan_amount'][(outlier_15_low | outlier_15_up)]"
   ]
  },
  {
   "cell_type": "code",
   "execution_count": 263,
   "id": "cc983062",
   "metadata": {},
   "outputs": [
    {
     "data": {
      "text/plain": [
       "0      100000\n",
       "1      128000\n",
       "2       66000\n",
       "3      120000\n",
       "4      141000\n",
       "        ...  \n",
       "615    108000\n",
       "616     71000\n",
       "617     40000\n",
       "618    253000\n",
       "619    187000\n",
       "Name: loan_amount, Length: 394, dtype: int64"
      ]
     },
     "execution_count": 263,
     "metadata": {},
     "output_type": "execute_result"
    }
   ],
   "source": [
    "df1['loan_amount'][-(outlier_15_low | outlier_15_up)]"
   ]
  },
  {
   "cell_type": "code",
   "execution_count": 264,
   "id": "6966faca",
   "metadata": {},
   "outputs": [],
   "source": [
    "df1 = df1[~(outlier_15_low | outlier_15_up)]"
   ]
  },
  {
   "cell_type": "code",
   "execution_count": 265,
   "id": "4bdc7070",
   "metadata": {
    "scrolled": false
   },
   "outputs": [
    {
     "data": {
      "text/plain": [
       "count       394.000000\n",
       "mean     127076.142132\n",
       "std       45777.137858\n",
       "min        9000.000000\n",
       "25%      100000.000000\n",
       "50%      120000.000000\n",
       "75%      153750.000000\n",
       "max      255000.000000\n",
       "Name: loan_amount, dtype: float64"
      ]
     },
     "execution_count": 265,
     "metadata": {},
     "output_type": "execute_result"
    }
   ],
   "source": [
    "df1['loan_amount'].describe()"
   ]
  },
  {
   "cell_type": "markdown",
   "id": "01b0e63c",
   "metadata": {},
   "source": [
    "**handle applicant income**"
   ]
  },
  {
   "cell_type": "code",
   "execution_count": 266,
   "id": "8bf8837d",
   "metadata": {},
   "outputs": [],
   "source": [
    "Q1 = df1['applicant_income'].quantile(0.25)\n",
    "Q3 = df1['applicant_income'].quantile(0.75)\n",
    "IQR = Q3 - Q1"
   ]
  },
  {
   "cell_type": "code",
   "execution_count": 267,
   "id": "e0d24799",
   "metadata": {
    "scrolled": true
   },
   "outputs": [
    {
     "data": {
      "text/plain": [
       "2669.75"
      ]
     },
     "execution_count": 267,
     "metadata": {},
     "output_type": "execute_result"
    }
   ],
   "source": [
    "IQR"
   ]
  },
  {
   "cell_type": "code",
   "execution_count": 268,
   "id": "f2e8bffa",
   "metadata": {},
   "outputs": [],
   "source": [
    "lower_lin = Q1 - 1.5 * IQR\n",
    "upper_lin = Q3 + 1.5 * IQR"
   ]
  },
  {
   "cell_type": "code",
   "execution_count": 269,
   "id": "3c7256b1",
   "metadata": {
    "scrolled": true
   },
   "outputs": [
    {
     "data": {
      "text/plain": [
       "-1219.125"
      ]
     },
     "execution_count": 269,
     "metadata": {},
     "output_type": "execute_result"
    }
   ],
   "source": [
    "lower_lin"
   ]
  },
  {
   "cell_type": "code",
   "execution_count": 270,
   "id": "386b7e94",
   "metadata": {
    "scrolled": true
   },
   "outputs": [
    {
     "data": {
      "text/plain": [
       "9459.875"
      ]
     },
     "execution_count": 270,
     "metadata": {},
     "output_type": "execute_result"
    }
   ],
   "source": [
    "upper_lin"
   ]
  },
  {
   "cell_type": "code",
   "execution_count": 271,
   "id": "9048aa3a",
   "metadata": {
    "scrolled": true
   },
   "outputs": [
    {
     "data": {
      "text/plain": [
       "count       394.000000\n",
       "mean       5103.213198\n",
       "std        9135.747377\n",
       "min         150.000000\n",
       "25%        2785.500000\n",
       "50%        3737.500000\n",
       "75%        5455.250000\n",
       "max      170578.000000\n",
       "Name: applicant_income, dtype: float64"
      ]
     },
     "execution_count": 271,
     "metadata": {},
     "output_type": "execute_result"
    }
   ],
   "source": [
    "df1['applicant_income'].describe()"
   ]
  },
  {
   "cell_type": "code",
   "execution_count": 272,
   "id": "665dc105",
   "metadata": {},
   "outputs": [],
   "source": [
    "outlier_15_low = (df1['applicant_income'] < lower_lin)"
   ]
  },
  {
   "cell_type": "code",
   "execution_count": 273,
   "id": "76034ee7",
   "metadata": {},
   "outputs": [],
   "source": [
    "outlier_15_up = (df1['applicant_income'] > upper_lin)"
   ]
  },
  {
   "cell_type": "code",
   "execution_count": 274,
   "id": "04112574",
   "metadata": {},
   "outputs": [
    {
     "data": {
      "text/plain": [
       "369"
      ]
     },
     "execution_count": 274,
     "metadata": {},
     "output_type": "execute_result"
    }
   ],
   "source": [
    "len(df1['applicant_income']) - (len( df1['applicant_income'][outlier_15_low]) + len( df1['applicant_income'][outlier_15_up])) "
   ]
  },
  {
   "cell_type": "code",
   "execution_count": 275,
   "id": "c72b5a01",
   "metadata": {},
   "outputs": [
    {
     "data": {
      "text/plain": [
       "107     11417.0\n",
       "116     14583.0\n",
       "139     14999.0\n",
       "145     11757.0\n",
       "147     14866.0\n",
       "149     10000.0\n",
       "158      9538.0\n",
       "186     39147.0\n",
       "192     12000.0\n",
       "200     11000.0\n",
       "211     10000.0\n",
       "247      9703.0\n",
       "255     16250.0\n",
       "272     11146.0\n",
       "286     20667.0\n",
       "291      9508.0\n",
       "374     15759.0\n",
       "448     37719.0\n",
       "480     16525.0\n",
       "488     10833.0\n",
       "498     17263.0\n",
       "514     13262.0\n",
       "539     18165.0\n",
       "604      9963.0\n",
       "608    170578.0\n",
       "Name: applicant_income, dtype: float64"
      ]
     },
     "execution_count": 275,
     "metadata": {},
     "output_type": "execute_result"
    }
   ],
   "source": [
    "df1['applicant_income'][(outlier_15_low | outlier_15_up)]"
   ]
  },
  {
   "cell_type": "code",
   "execution_count": 276,
   "id": "76eb6ba2",
   "metadata": {},
   "outputs": [
    {
     "data": {
      "text/plain": [
       "0      5849.0\n",
       "1      4583.0\n",
       "2      3000.0\n",
       "3      2583.0\n",
       "4      6000.0\n",
       "        ...  \n",
       "615    3232.0\n",
       "616    2900.0\n",
       "617    4106.0\n",
       "618    8072.0\n",
       "619    7583.0\n",
       "Name: applicant_income, Length: 369, dtype: float64"
      ]
     },
     "execution_count": 276,
     "metadata": {},
     "output_type": "execute_result"
    }
   ],
   "source": [
    "df1['applicant_income'][-(outlier_15_low | outlier_15_up)]"
   ]
  },
  {
   "cell_type": "code",
   "execution_count": 277,
   "id": "efec9f35",
   "metadata": {},
   "outputs": [],
   "source": [
    "df1 = df1[~(outlier_15_low | outlier_15_up)]"
   ]
  },
  {
   "cell_type": "markdown",
   "id": "7d0ea19a",
   "metadata": {},
   "source": [
    "## Analisis minat pelanggan berdasarkan pada tipe properti "
   ]
  },
  {
   "cell_type": "code",
   "execution_count": 278,
   "id": "c44a9ef9",
   "metadata": {},
   "outputs": [],
   "source": [
    "dfw = df1.groupby(['gender', 'property_type'], as_index=False).sum()"
   ]
  },
  {
   "cell_type": "code",
   "execution_count": 279,
   "id": "76796a92",
   "metadata": {},
   "outputs": [
    {
     "data": {
      "text/plain": [
       "gender\n",
       "Female     68\n",
       "Male      301\n",
       "Name: property_type, dtype: int64"
      ]
     },
     "execution_count": 279,
     "metadata": {},
     "output_type": "execute_result"
    }
   ],
   "source": [
    "df1.groupby([\"gender\"])[\"property_type\"].count()"
   ]
  },
  {
   "cell_type": "code",
   "execution_count": 280,
   "id": "4e99eb17",
   "metadata": {},
   "outputs": [
    {
     "data": {
      "text/plain": [
       "property_type\n",
       "apartment    151\n",
       "house        116\n",
       "studio       102\n",
       "Name: gender, dtype: int64"
      ]
     },
     "execution_count": 280,
     "metadata": {},
     "output_type": "execute_result"
    }
   ],
   "source": [
    "df1.groupby([\"property_type\"])[\"gender\"].count()"
   ]
  },
  {
   "cell_type": "code",
   "execution_count": 281,
   "id": "827fc8a8",
   "metadata": {},
   "outputs": [
    {
     "data": {
      "image/png": "[encoded data removed]",
      "text/plain": [
       "<Figure size 1000x500 with 1 Axes>"
      ]
     },
     "metadata": {},
     "output_type": "display_data"
    }
   ],
   "source": [
    "fig = plt.figure(figsize=(10, 5))\n",
    "sns.countplot(df1['gender'], hue=df1['property_type'], palette = 'Blues_d')\n",
    "sns.set(rc={'figure.figsize':(12,12)}) # width, height"
   ]
  },
  {
   "cell_type": "code",
   "execution_count": 292,
   "id": "1eb8cd33",
   "metadata": {},
   "outputs": [],
   "source": [
    "grouped = df1.groupby(['gender', 'loan_amount', 'property_type'])"
   ]
  },
  {
   "cell_type": "code",
   "execution_count": 294,
   "id": "ac796fd3",
   "metadata": {},
   "outputs": [
    {
     "data": {
      "text/html": [
       "<div>\n",
       "<style scoped>\n",
       "    .dataframe tbody tr th:only-of-type {\n",
       "        vertical-align: middle;\n",
       "    }\n",
       "\n",
       "    .dataframe tbody tr th {\n",
       "        vertical-align: top;\n",
       "    }\n",
       "\n",
       "    .dataframe thead th {\n",
       "        text-align: right;\n",
       "    }\n",
       "</style>\n",
       "<table border=\"1\" class=\"dataframe\">\n",
       "  <thead>\n",
       "    <tr style=\"text-align: right;\">\n",
       "      <th></th>\n",
       "      <th></th>\n",
       "      <th></th>\n",
       "      <th>phone_number</th>\n",
       "      <th>applicant_income</th>\n",
       "      <th>coapplicant_income</th>\n",
       "      <th>loan_term_month</th>\n",
       "      <th>loan_term_year</th>\n",
       "      <th>credit_history</th>\n",
       "    </tr>\n",
       "    <tr>\n",
       "      <th>gender</th>\n",
       "      <th>loan_amount</th>\n",
       "      <th>property_type</th>\n",
       "      <th></th>\n",
       "      <th></th>\n",
       "      <th></th>\n",
       "      <th></th>\n",
       "      <th></th>\n",
       "      <th></th>\n",
       "    </tr>\n",
       "  </thead>\n",
       "  <tbody>\n",
       "    <tr>\n",
       "      <th rowspan=\"5\" valign=\"top\">Female</th>\n",
       "      <th>9000</th>\n",
       "      <th>house</th>\n",
       "      <td>6.287792e+11</td>\n",
       "      <td>2378.0</td>\n",
       "      <td>0.0</td>\n",
       "      <td>360</td>\n",
       "      <td>30</td>\n",
       "      <td>1.0</td>\n",
       "    </tr>\n",
       "    <tr>\n",
       "      <th>44000</th>\n",
       "      <th>apartment</th>\n",
       "      <td>6.281193e+11</td>\n",
       "      <td>4166.0</td>\n",
       "      <td>0.0</td>\n",
       "      <td>360</td>\n",
       "      <td>30</td>\n",
       "      <td>1.0</td>\n",
       "    </tr>\n",
       "    <tr>\n",
       "      <th>46000</th>\n",
       "      <th>studio</th>\n",
       "      <td>6.285745e+11</td>\n",
       "      <td>2378.0</td>\n",
       "      <td>0.0</td>\n",
       "      <td>360</td>\n",
       "      <td>30</td>\n",
       "      <td>1.0</td>\n",
       "    </tr>\n",
       "    <tr>\n",
       "      <th>53000</th>\n",
       "      <th>apartment</th>\n",
       "      <td>6.287740e+10</td>\n",
       "      <td>1963.0</td>\n",
       "      <td>0.0</td>\n",
       "      <td>360</td>\n",
       "      <td>30</td>\n",
       "      <td>1.0</td>\n",
       "    </tr>\n",
       "    <tr>\n",
       "      <th>56000</th>\n",
       "      <th>studio</th>\n",
       "      <td>6.285683e+11</td>\n",
       "      <td>2507.0</td>\n",
       "      <td>0.0</td>\n",
       "      <td>360</td>\n",
       "      <td>30</td>\n",
       "      <td>1.0</td>\n",
       "    </tr>\n",
       "    <tr>\n",
       "      <th>...</th>\n",
       "      <th>...</th>\n",
       "      <th>...</th>\n",
       "      <td>...</td>\n",
       "      <td>...</td>\n",
       "      <td>...</td>\n",
       "      <td>...</td>\n",
       "      <td>...</td>\n",
       "      <td>...</td>\n",
       "    </tr>\n",
       "    <tr>\n",
       "      <th rowspan=\"5\" valign=\"top\">Male</th>\n",
       "      <th>244000</th>\n",
       "      <th>house</th>\n",
       "      <td>6.285761e+11</td>\n",
       "      <td>9166.0</td>\n",
       "      <td>0.0</td>\n",
       "      <td>360</td>\n",
       "      <td>30</td>\n",
       "      <td>1.0</td>\n",
       "    </tr>\n",
       "    <tr>\n",
       "      <th>246000</th>\n",
       "      <th>apartment</th>\n",
       "      <td>6.285663e+11</td>\n",
       "      <td>8333.0</td>\n",
       "      <td>0.0</td>\n",
       "      <td>360</td>\n",
       "      <td>30</td>\n",
       "      <td>1.0</td>\n",
       "    </tr>\n",
       "    <tr>\n",
       "      <th>250000</th>\n",
       "      <th>apartment</th>\n",
       "      <td>6.281184e+11</td>\n",
       "      <td>6065.0</td>\n",
       "      <td>2004.0</td>\n",
       "      <td>360</td>\n",
       "      <td>30</td>\n",
       "      <td>1.0</td>\n",
       "    </tr>\n",
       "    <tr>\n",
       "      <th>253000</th>\n",
       "      <th>house</th>\n",
       "      <td>6.281158e+11</td>\n",
       "      <td>8072.0</td>\n",
       "      <td>240.0</td>\n",
       "      <td>360</td>\n",
       "      <td>30</td>\n",
       "      <td>1.0</td>\n",
       "    </tr>\n",
       "    <tr>\n",
       "      <th>255000</th>\n",
       "      <th>apartment</th>\n",
       "      <td>6.281354e+10</td>\n",
       "      <td>4583.0</td>\n",
       "      <td>5625.0</td>\n",
       "      <td>360</td>\n",
       "      <td>30</td>\n",
       "      <td>1.0</td>\n",
       "    </tr>\n",
       "  </tbody>\n",
       "</table>\n",
       "<p>259 rows × 6 columns</p>\n",
       "</div>"
      ],
      "text/plain": [
       "                                  phone_number  applicant_income  \\\n",
       "gender loan_amount property_type                                   \n",
       "Female 9000        house          6.287792e+11            2378.0   \n",
       "       44000       apartment      6.281193e+11            4166.0   \n",
       "       46000       studio         6.285745e+11            2378.0   \n",
       "       53000       apartment      6.287740e+10            1963.0   \n",
       "       56000       studio         6.285683e+11            2507.0   \n",
       "...                                        ...               ...   \n",
       "Male   244000      house          6.285761e+11            9166.0   \n",
       "       246000      apartment      6.285663e+11            8333.0   \n",
       "       250000      apartment      6.281184e+11            6065.0   \n",
       "       253000      house          6.281158e+11            8072.0   \n",
       "       255000      apartment      6.281354e+10            4583.0   \n",
       "\n",
       "                                  coapplicant_income  loan_term_month  \\\n",
       "gender loan_amount property_type                                        \n",
       "Female 9000        house                         0.0              360   \n",
       "       44000       apartment                     0.0              360   \n",
       "       46000       studio                        0.0              360   \n",
       "       53000       apartment                     0.0              360   \n",
       "       56000       studio                        0.0              360   \n",
       "...                                              ...              ...   \n",
       "Male   244000      house                         0.0              360   \n",
       "       246000      apartment                     0.0              360   \n",
       "       250000      apartment                  2004.0              360   \n",
       "       253000      house                       240.0              360   \n",
       "       255000      apartment                  5625.0              360   \n",
       "\n",
       "                                  loan_term_year  credit_history  \n",
       "gender loan_amount property_type                                  \n",
       "Female 9000        house                      30             1.0  \n",
       "       44000       apartment                  30             1.0  \n",
       "       46000       studio                     30             1.0  \n",
       "       53000       apartment                  30             1.0  \n",
       "       56000       studio                     30             1.0  \n",
       "...                                          ...             ...  \n",
       "Male   244000      house                      30             1.0  \n",
       "       246000      apartment                  30             1.0  \n",
       "       250000      apartment                  30             1.0  \n",
       "       253000      house                      30             1.0  \n",
       "       255000      apartment                  30             1.0  \n",
       "\n",
       "[259 rows x 6 columns]"
      ]
     },
     "execution_count": 294,
     "metadata": {},
     "output_type": "execute_result"
    }
   ],
   "source": [
    "result = grouped.sum()\n",
    "result"
   ]
  },
  {
   "cell_type": "code",
   "execution_count": 284,
   "id": "0bfc4421",
   "metadata": {},
   "outputs": [
    {
     "data": {
      "image/png": "[encoded data removed]",
      "text/plain": [
       "<Figure size 1000x500 with 1 Axes>"
      ]
     },
     "metadata": {},
     "output_type": "display_data"
    }
   ],
   "source": [
    "fig = plt.figure(figsize=(10, 5))\n",
    "sns.countplot(df1['gender'], hue=df1['property_type'], palette = 'Blues_d')\n",
    "sns.set(rc={'figure.figsize':(12,12)}) # width, height\n"
   ]
  },
  {
   "cell_type": "markdown",
   "id": "16148345",
   "metadata": {},
   "source": [
    "## Analisis pengaruh status perkawinan terhadap jangka waktu meminjam"
   ]
  },
  {
   "cell_type": "code",
   "execution_count": 285,
   "id": "9c6adaad",
   "metadata": {},
   "outputs": [
    {
     "data": {
      "text/plain": [
       "<AxesSubplot:xlabel='loan_term_month', ylabel='count'>"
      ]
     },
     "execution_count": 285,
     "metadata": {},
     "output_type": "execute_result"
    },
    {
     "data": {
      "image/png": "[encoded data removed]",
      "text/plain": [
       "<Figure size 800x400 with 1 Axes>"
      ]
     },
     "metadata": {},
     "output_type": "display_data"
    }
   ],
   "source": [
    "fig = plt.figure(figsize=(8, 4))\n",
    "sns.countplot(df1['loan_term_month'], hue=df1['married'], palette = 'Blues_d')"
   ]
  },
  {
   "cell_type": "code",
   "execution_count": 286,
   "id": "347aef8a",
   "metadata": {},
   "outputs": [],
   "source": [
    "grouped2 = df1.groupby(['married', 'loan_amount', 'loan_term_month'])"
   ]
  },
  {
   "cell_type": "code",
   "execution_count": 287,
   "id": "4781551d",
   "metadata": {},
   "outputs": [
    {
     "data": {
      "text/html": [
       "<div>\n",
       "<style scoped>\n",
       "    .dataframe tbody tr th:only-of-type {\n",
       "        vertical-align: middle;\n",
       "    }\n",
       "\n",
       "    .dataframe tbody tr th {\n",
       "        vertical-align: top;\n",
       "    }\n",
       "\n",
       "    .dataframe thead th {\n",
       "        text-align: right;\n",
       "    }\n",
       "</style>\n",
       "<table border=\"1\" class=\"dataframe\">\n",
       "  <thead>\n",
       "    <tr style=\"text-align: right;\">\n",
       "      <th></th>\n",
       "      <th></th>\n",
       "      <th></th>\n",
       "      <th>phone_number</th>\n",
       "      <th>applicant_income</th>\n",
       "      <th>coapplicant_income</th>\n",
       "      <th>loan_term_year</th>\n",
       "      <th>credit_history</th>\n",
       "    </tr>\n",
       "    <tr>\n",
       "      <th>married</th>\n",
       "      <th>loan_amount</th>\n",
       "      <th>loan_term_month</th>\n",
       "      <th></th>\n",
       "      <th></th>\n",
       "      <th></th>\n",
       "      <th></th>\n",
       "      <th></th>\n",
       "    </tr>\n",
       "  </thead>\n",
       "  <tbody>\n",
       "    <tr>\n",
       "      <th rowspan=\"5\" valign=\"top\">No</th>\n",
       "      <th>9000</th>\n",
       "      <th>360</th>\n",
       "      <td>6.287792e+11</td>\n",
       "      <td>2378.0</td>\n",
       "      <td>0.0</td>\n",
       "      <td>30</td>\n",
       "      <td>1.0</td>\n",
       "    </tr>\n",
       "    <tr>\n",
       "      <th>25000</th>\n",
       "      <th>120</th>\n",
       "      <td>6.281104e+11</td>\n",
       "      <td>3620.0</td>\n",
       "      <td>0.0</td>\n",
       "      <td>10</td>\n",
       "      <td>1.0</td>\n",
       "    </tr>\n",
       "    <tr>\n",
       "      <th>35000</th>\n",
       "      <th>360</th>\n",
       "      <td>6.285222e+10</td>\n",
       "      <td>1442.0</td>\n",
       "      <td>0.0</td>\n",
       "      <td>30</td>\n",
       "      <td>1.0</td>\n",
       "    </tr>\n",
       "    <tr>\n",
       "      <th>44000</th>\n",
       "      <th>360</th>\n",
       "      <td>6.281193e+11</td>\n",
       "      <td>4166.0</td>\n",
       "      <td>0.0</td>\n",
       "      <td>30</td>\n",
       "      <td>1.0</td>\n",
       "    </tr>\n",
       "    <tr>\n",
       "      <th>46000</th>\n",
       "      <th>360</th>\n",
       "      <td>6.285745e+11</td>\n",
       "      <td>2378.0</td>\n",
       "      <td>0.0</td>\n",
       "      <td>30</td>\n",
       "      <td>1.0</td>\n",
       "    </tr>\n",
       "    <tr>\n",
       "      <th>...</th>\n",
       "      <th>...</th>\n",
       "      <th>...</th>\n",
       "      <td>...</td>\n",
       "      <td>...</td>\n",
       "      <td>...</td>\n",
       "      <td>...</td>\n",
       "      <td>...</td>\n",
       "    </tr>\n",
       "    <tr>\n",
       "      <th rowspan=\"5\" valign=\"top\">Yes</th>\n",
       "      <th>243000</th>\n",
       "      <th>360</th>\n",
       "      <td>6.287779e+11</td>\n",
       "      <td>3510.0</td>\n",
       "      <td>4416.0</td>\n",
       "      <td>30</td>\n",
       "      <td>1.0</td>\n",
       "    </tr>\n",
       "    <tr>\n",
       "      <th>246000</th>\n",
       "      <th>360</th>\n",
       "      <td>6.285663e+11</td>\n",
       "      <td>8333.0</td>\n",
       "      <td>0.0</td>\n",
       "      <td>30</td>\n",
       "      <td>1.0</td>\n",
       "    </tr>\n",
       "    <tr>\n",
       "      <th>250000</th>\n",
       "      <th>360</th>\n",
       "      <td>6.281184e+11</td>\n",
       "      <td>6065.0</td>\n",
       "      <td>2004.0</td>\n",
       "      <td>30</td>\n",
       "      <td>1.0</td>\n",
       "    </tr>\n",
       "    <tr>\n",
       "      <th>253000</th>\n",
       "      <th>360</th>\n",
       "      <td>6.281158e+11</td>\n",
       "      <td>8072.0</td>\n",
       "      <td>240.0</td>\n",
       "      <td>30</td>\n",
       "      <td>1.0</td>\n",
       "    </tr>\n",
       "    <tr>\n",
       "      <th>255000</th>\n",
       "      <th>360</th>\n",
       "      <td>6.281354e+10</td>\n",
       "      <td>4583.0</td>\n",
       "      <td>5625.0</td>\n",
       "      <td>30</td>\n",
       "      <td>1.0</td>\n",
       "    </tr>\n",
       "  </tbody>\n",
       "</table>\n",
       "<p>229 rows × 5 columns</p>\n",
       "</div>"
      ],
      "text/plain": [
       "                                     phone_number  applicant_income  \\\n",
       "married loan_amount loan_term_month                                   \n",
       "No      9000        360              6.287792e+11            2378.0   \n",
       "        25000       120              6.281104e+11            3620.0   \n",
       "        35000       360              6.285222e+10            1442.0   \n",
       "        44000       360              6.281193e+11            4166.0   \n",
       "        46000       360              6.285745e+11            2378.0   \n",
       "...                                           ...               ...   \n",
       "Yes     243000      360              6.287779e+11            3510.0   \n",
       "        246000      360              6.285663e+11            8333.0   \n",
       "        250000      360              6.281184e+11            6065.0   \n",
       "        253000      360              6.281158e+11            8072.0   \n",
       "        255000      360              6.281354e+10            4583.0   \n",
       "\n",
       "                                     coapplicant_income  loan_term_year  \\\n",
       "married loan_amount loan_term_month                                       \n",
       "No      9000        360                             0.0              30   \n",
       "        25000       120                             0.0              10   \n",
       "        35000       360                             0.0              30   \n",
       "        44000       360                             0.0              30   \n",
       "        46000       360                             0.0              30   \n",
       "...                                                 ...             ...   \n",
       "Yes     243000      360                          4416.0              30   \n",
       "        246000      360                             0.0              30   \n",
       "        250000      360                          2004.0              30   \n",
       "        253000      360                           240.0              30   \n",
       "        255000      360                          5625.0              30   \n",
       "\n",
       "                                     credit_history  \n",
       "married loan_amount loan_term_month                  \n",
       "No      9000        360                         1.0  \n",
       "        25000       120                         1.0  \n",
       "        35000       360                         1.0  \n",
       "        44000       360                         1.0  \n",
       "        46000       360                         1.0  \n",
       "...                                             ...  \n",
       "Yes     243000      360                         1.0  \n",
       "        246000      360                         1.0  \n",
       "        250000      360                         1.0  \n",
       "        253000      360                         1.0  \n",
       "        255000      360                         1.0  \n",
       "\n",
       "[229 rows x 5 columns]"
      ]
     },
     "execution_count": 287,
     "metadata": {},
     "output_type": "execute_result"
    }
   ],
   "source": [
    "result2 = grouped2.sum()\n",
    "result2"
   ]
  },
  {
   "cell_type": "markdown",
   "id": "fe48f762",
   "metadata": {},
   "source": [
    "## Kesimpulan"
   ]
  },
  {
   "cell_type": "markdown",
   "id": "beb5ec79",
   "metadata": {},
   "source": [
    "- kebanyakan yang mengajukan loan adalah seorang laki-laki yang sudah memiliki gelar, dan sudah menikah\n",
    "- kebanyakn pengaju pinjaman adalah yang sudah menikah banyak yang memilih jangka waktu pinjaman sebanyak 360 bulan/ 30 tahun"
   ]
  },
  {
   "cell_type": "code",
   "execution_count": null,
   "id": "022d82cd",
   "metadata": {},
   "outputs": [],
   "source": []
  },
  {
   "cell_type": "code",
   "execution_count": null,
   "id": "040b7e7a",
   "metadata": {},
   "outputs": [],
   "source": []
  }
 ],
 "metadata": {
  "kernelspec": {
   "display_name": "Python 3 (ipykernel)",
   "language": "python",
   "name": "python3"
  },
  "language_info": {
   "codemirror_mode": {
    "name": "ipython",
    "version": 3
   },
   "file_extension": ".py",
   "mimetype": "text/x-python",
   "name": "python",
   "nbconvert_exporter": "python",
   "pygments_lexer": "ipython3",
   "version": "3.9.13"
  }
 },
 "nbformat": 4,
 "nbformat_minor": 5
}
